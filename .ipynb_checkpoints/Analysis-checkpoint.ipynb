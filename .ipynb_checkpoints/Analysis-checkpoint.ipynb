{
 "cells": [
  {
   "cell_type": "code",
   "execution_count": 1,
   "metadata": {},
   "outputs": [],
   "source": [
    "import pandas as pd"
   ]
  },
  {
   "cell_type": "code",
   "execution_count": 10,
   "metadata": {},
   "outputs": [],
   "source": [
    "Movies = pd.read_csv(\"Resources/IMDb movies.csv\")\n",
    "Names = pd.read_csv(\"Resources/IMDb names.csv\")\n",
    "Ratings = pd.read_csv(\"Resources/IMDb ratings.csv\")\n",
    "Title_Principals = pd.read_csv(\"Resources/IMDb title_principals.csv\")"
   ]
  },
  {
   "cell_type": "code",
   "execution_count": 11,
   "metadata": {},
   "outputs": [
    {
     "data": {
      "text/plain": [
       "actor                  100495\n",
       "actress                 60074\n",
       "writer                  55867\n",
       "producer                45719\n",
       "director                40106\n",
       "composer                30350\n",
       "cinematographer         25026\n",
       "editor                  15290\n",
       "production_designer      4300\n",
       "self                      433\n",
       "archive_footage           185\n",
       "archive_sound               3\n",
       "Name: category, dtype: int64"
      ]
     },
     "execution_count": 11,
     "metadata": {},
     "output_type": "execute_result"
    }
   ],
   "source": [
    "Title_Principals['category'].value_counts()"
   ]
  },
  {
   "cell_type": "code",
   "execution_count": 54,
   "metadata": {},
   "outputs": [
    {
     "data": {
      "text/html": [
       "<div>\n",
       "<style scoped>\n",
       "    .dataframe tbody tr th:only-of-type {\n",
       "        vertical-align: middle;\n",
       "    }\n",
       "\n",
       "    .dataframe tbody tr th {\n",
       "        vertical-align: top;\n",
       "    }\n",
       "\n",
       "    .dataframe thead th {\n",
       "        text-align: right;\n",
       "    }\n",
       "</style>\n",
       "<table border=\"1\" class=\"dataframe\">\n",
       "  <thead>\n",
       "    <tr style=\"text-align: right;\">\n",
       "      <th></th>\n",
       "      <th>Profession</th>\n",
       "      <th>Profession_id</th>\n",
       "    </tr>\n",
       "  </thead>\n",
       "  <tbody>\n",
       "    <tr>\n",
       "      <th>0</th>\n",
       "      <td>actress</td>\n",
       "      <td>P001</td>\n",
       "    </tr>\n",
       "    <tr>\n",
       "      <th>1</th>\n",
       "      <td>actor</td>\n",
       "      <td>P002</td>\n",
       "    </tr>\n",
       "    <tr>\n",
       "      <th>2</th>\n",
       "      <td>director</td>\n",
       "      <td>P003</td>\n",
       "    </tr>\n",
       "    <tr>\n",
       "      <th>3</th>\n",
       "      <td>producer</td>\n",
       "      <td>P004</td>\n",
       "    </tr>\n",
       "    <tr>\n",
       "      <th>4</th>\n",
       "      <td>composer</td>\n",
       "      <td>P005</td>\n",
       "    </tr>\n",
       "    <tr>\n",
       "      <th>5</th>\n",
       "      <td>cinematographer</td>\n",
       "      <td>P006</td>\n",
       "    </tr>\n",
       "    <tr>\n",
       "      <th>6</th>\n",
       "      <td>writer</td>\n",
       "      <td>P007</td>\n",
       "    </tr>\n",
       "    <tr>\n",
       "      <th>7</th>\n",
       "      <td>production_designer</td>\n",
       "      <td>P008</td>\n",
       "    </tr>\n",
       "    <tr>\n",
       "      <th>8</th>\n",
       "      <td>editor</td>\n",
       "      <td>P009</td>\n",
       "    </tr>\n",
       "    <tr>\n",
       "      <th>9</th>\n",
       "      <td>self</td>\n",
       "      <td>P010</td>\n",
       "    </tr>\n",
       "    <tr>\n",
       "      <th>10</th>\n",
       "      <td>archive_footage</td>\n",
       "      <td>P011</td>\n",
       "    </tr>\n",
       "    <tr>\n",
       "      <th>11</th>\n",
       "      <td>archive_sound</td>\n",
       "      <td>P012</td>\n",
       "    </tr>\n",
       "  </tbody>\n",
       "</table>\n",
       "</div>"
      ],
      "text/plain": [
       "             Profession Profession_id\n",
       "0               actress          P001\n",
       "1                 actor          P002\n",
       "2              director          P003\n",
       "3              producer          P004\n",
       "4              composer          P005\n",
       "5       cinematographer          P006\n",
       "6                writer          P007\n",
       "7   production_designer          P008\n",
       "8                editor          P009\n",
       "9                  self          P010\n",
       "10      archive_footage          P011\n",
       "11        archive_sound          P012"
      ]
     },
     "execution_count": 54,
     "metadata": {},
     "output_type": "execute_result"
    }
   ],
   "source": [
    "Actors =  list(Title_Principals['category'].unique())\n",
    "dict={\"Profession\":Actors,\n",
    "     \"Profession_id\":[\"P001\",\"P002\",\"P003\",\"P004\",\"P005\",\"P006\",\"P007\",\"P008\",\"P009\",\"P010\",\"P011\",\"P012\"]}\n",
    "Profession_df = pd.DataFrame(dict)\n",
    "Profession_df.to_csv(\"Main Data/Profession.csv\",index=False)\n",
    "Profession_df"
   ]
  },
  {
   "cell_type": "code",
   "execution_count": 44,
   "metadata": {},
   "outputs": [],
   "source": [
    "Name_df = Names[['imdb_name_id','name']]\n",
    "Name_df.to_csv(\"Main Data/Names.csv\",index=False)"
   ]
  },
  {
   "cell_type": "code",
   "execution_count": 45,
   "metadata": {},
   "outputs": [],
   "source": [
    "Movies_df = Movies[['imdb_title_id','title','date_published','genre','director','writer','actors','votes']]\n",
    "Movies_df.to_csv(\"Main Data/Movies.csv\",index=False)"
   ]
  },
  {
   "cell_type": "code",
   "execution_count": 46,
   "metadata": {},
   "outputs": [],
   "source": [
    "Title_df = Title_Principals[['imdb_title_id','imdb_name_id','category']]\n",
    "Title_df.to_csv(\"Main Data/Title.csv\",index=False)"
   ]
  },
  {
   "cell_type": "code",
   "execution_count": 50,
   "metadata": {},
   "outputs": [],
   "source": [
    "Ratings_df = Ratings[['total_votes','weighted_average_vote','imdb_title_id','allgenders_18age_avg_vote','allgenders_30age_avg_vote','allgenders_45age_avg_vote','males_allages_avg_vote','females_allages_avg_vote','us_voters_votes'\n",
    ",'non_us_voters_votes']]"
   ]
  },
  {
   "cell_type": "code",
   "execution_count": 53,
   "metadata": {},
   "outputs": [],
   "source": [
    "Ratings_df.to_csv(\"Main Data/Ratings.csv\",index=False)"
   ]
  },
  {
   "cell_type": "code",
   "execution_count": null,
   "metadata": {},
   "outputs": [],
   "source": []
  }
 ],
 "metadata": {
  "kernelspec": {
   "display_name": "Python 3",
   "language": "python",
   "name": "python3"
  },
  "language_info": {
   "codemirror_mode": {
    "name": "ipython",
    "version": 3
   },
   "file_extension": ".py",
   "mimetype": "text/x-python",
   "name": "python",
   "nbconvert_exporter": "python",
   "pygments_lexer": "ipython3",
   "version": "3.7.7"
  }
 },
 "nbformat": 4,
 "nbformat_minor": 4
}
